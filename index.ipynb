{
 "cells": [
  {
   "cell_type": "markdown",
   "metadata": {},
   "source": [
    "Import Libraries"
   ]
  },
  {
   "cell_type": "code",
   "execution_count": 33,
   "metadata": {},
   "outputs": [],
   "source": [
    "import pandas as pd\n",
    "import numpy as np\n",
    "import matplotlib.pyplot as plt\n",
    "from sklearn.model_selection import train_test_split\n",
    "from sklearn.neighbors import KNeighborsClassifier\n",
    "from sklearn.metrics import confusion_matrix, accuracy_score, classification_report\n",
    "from sklearn.preprocessing import MinMaxScaler\n",
    "from sklearn.preprocessing import LabelEncoder\n",
    "from sklearn.preprocessing import StandardScaler\n",
    "import seaborn as sns"
   ]
  },
  {
   "cell_type": "markdown",
   "metadata": {},
   "source": [
    "Read Dataset"
   ]
  },
  {
   "cell_type": "code",
   "execution_count": 34,
   "metadata": {},
   "outputs": [
    {
     "data": {
      "text/html": [
       "<div>\n",
       "<style scoped>\n",
       "    .dataframe tbody tr th:only-of-type {\n",
       "        vertical-align: middle;\n",
       "    }\n",
       "\n",
       "    .dataframe tbody tr th {\n",
       "        vertical-align: top;\n",
       "    }\n",
       "\n",
       "    .dataframe thead th {\n",
       "        text-align: right;\n",
       "    }\n",
       "</style>\n",
       "<table border=\"1\" class=\"dataframe\">\n",
       "  <thead>\n",
       "    <tr style=\"text-align: right;\">\n",
       "      <th></th>\n",
       "      <th>No</th>\n",
       "      <th>Usia</th>\n",
       "      <th>Jenis_Kelamin</th>\n",
       "      <th>Merokok</th>\n",
       "      <th>Bekerja</th>\n",
       "      <th>Rumah_Tangga</th>\n",
       "      <th>Aktivitas_Begadang</th>\n",
       "      <th>Aktivitas_Olahraga</th>\n",
       "      <th>Asuransi</th>\n",
       "      <th>Penyakit_Bawaan</th>\n",
       "      <th>Hasil</th>\n",
       "    </tr>\n",
       "  </thead>\n",
       "  <tbody>\n",
       "    <tr>\n",
       "      <th>0</th>\n",
       "      <td>1</td>\n",
       "      <td>Tua</td>\n",
       "      <td>Pria</td>\n",
       "      <td>Pasif</td>\n",
       "      <td>Tidak</td>\n",
       "      <td>Ya</td>\n",
       "      <td>Ya</td>\n",
       "      <td>Sering</td>\n",
       "      <td>Ada</td>\n",
       "      <td>Tidak</td>\n",
       "      <td>Ya</td>\n",
       "    </tr>\n",
       "    <tr>\n",
       "      <th>1</th>\n",
       "      <td>2</td>\n",
       "      <td>Tua</td>\n",
       "      <td>Pria</td>\n",
       "      <td>Aktif</td>\n",
       "      <td>Tidak</td>\n",
       "      <td>Ya</td>\n",
       "      <td>Ya</td>\n",
       "      <td>Jarang</td>\n",
       "      <td>Ada</td>\n",
       "      <td>Ada</td>\n",
       "      <td>Tidak</td>\n",
       "    </tr>\n",
       "    <tr>\n",
       "      <th>2</th>\n",
       "      <td>3</td>\n",
       "      <td>Muda</td>\n",
       "      <td>Pria</td>\n",
       "      <td>Aktif</td>\n",
       "      <td>Tidak</td>\n",
       "      <td>Ya</td>\n",
       "      <td>Ya</td>\n",
       "      <td>Jarang</td>\n",
       "      <td>Ada</td>\n",
       "      <td>Tidak</td>\n",
       "      <td>Tidak</td>\n",
       "    </tr>\n",
       "    <tr>\n",
       "      <th>3</th>\n",
       "      <td>4</td>\n",
       "      <td>Tua</td>\n",
       "      <td>Pria</td>\n",
       "      <td>Aktif</td>\n",
       "      <td>Ya</td>\n",
       "      <td>Tidak</td>\n",
       "      <td>Tidak</td>\n",
       "      <td>Jarang</td>\n",
       "      <td>Ada</td>\n",
       "      <td>Ada</td>\n",
       "      <td>Tidak</td>\n",
       "    </tr>\n",
       "    <tr>\n",
       "      <th>4</th>\n",
       "      <td>5</td>\n",
       "      <td>Muda</td>\n",
       "      <td>Wanita</td>\n",
       "      <td>Pasif</td>\n",
       "      <td>Ya</td>\n",
       "      <td>Tidak</td>\n",
       "      <td>Tidak</td>\n",
       "      <td>Sering</td>\n",
       "      <td>Tidak</td>\n",
       "      <td>Ada</td>\n",
       "      <td>Ya</td>\n",
       "    </tr>\n",
       "    <tr>\n",
       "      <th>...</th>\n",
       "      <td>...</td>\n",
       "      <td>...</td>\n",
       "      <td>...</td>\n",
       "      <td>...</td>\n",
       "      <td>...</td>\n",
       "      <td>...</td>\n",
       "      <td>...</td>\n",
       "      <td>...</td>\n",
       "      <td>...</td>\n",
       "      <td>...</td>\n",
       "      <td>...</td>\n",
       "    </tr>\n",
       "    <tr>\n",
       "      <th>29995</th>\n",
       "      <td>29996</td>\n",
       "      <td>Muda</td>\n",
       "      <td>Pria</td>\n",
       "      <td>Aktif</td>\n",
       "      <td>Tidak</td>\n",
       "      <td>Ya</td>\n",
       "      <td>Ya</td>\n",
       "      <td>Jarang</td>\n",
       "      <td>Ada</td>\n",
       "      <td>Tidak</td>\n",
       "      <td>Tidak</td>\n",
       "    </tr>\n",
       "    <tr>\n",
       "      <th>29996</th>\n",
       "      <td>29997</td>\n",
       "      <td>Tua</td>\n",
       "      <td>Wanita</td>\n",
       "      <td>Aktif</td>\n",
       "      <td>Ya</td>\n",
       "      <td>Tidak</td>\n",
       "      <td>Ya</td>\n",
       "      <td>Jarang</td>\n",
       "      <td>Ada</td>\n",
       "      <td>Ada</td>\n",
       "      <td>Tidak</td>\n",
       "    </tr>\n",
       "    <tr>\n",
       "      <th>29997</th>\n",
       "      <td>29998</td>\n",
       "      <td>Tua</td>\n",
       "      <td>Wanita</td>\n",
       "      <td>Aktif</td>\n",
       "      <td>Ya</td>\n",
       "      <td>Tidak</td>\n",
       "      <td>Ya</td>\n",
       "      <td>Jarang</td>\n",
       "      <td>Ada</td>\n",
       "      <td>Ada</td>\n",
       "      <td>Tidak</td>\n",
       "    </tr>\n",
       "    <tr>\n",
       "      <th>29998</th>\n",
       "      <td>29999</td>\n",
       "      <td>Muda</td>\n",
       "      <td>Wanita</td>\n",
       "      <td>Pasif</td>\n",
       "      <td>Ya</td>\n",
       "      <td>Tidak</td>\n",
       "      <td>Tidak</td>\n",
       "      <td>Sering</td>\n",
       "      <td>Tidak</td>\n",
       "      <td>Ada</td>\n",
       "      <td>Tidak</td>\n",
       "    </tr>\n",
       "    <tr>\n",
       "      <th>29999</th>\n",
       "      <td>30000</td>\n",
       "      <td>Tua</td>\n",
       "      <td>Wanita</td>\n",
       "      <td>Pasif</td>\n",
       "      <td>Tidak</td>\n",
       "      <td>Ya</td>\n",
       "      <td>Tidak</td>\n",
       "      <td>Sering</td>\n",
       "      <td>Tidak</td>\n",
       "      <td>Tidak</td>\n",
       "      <td>Ya</td>\n",
       "    </tr>\n",
       "  </tbody>\n",
       "</table>\n",
       "<p>30000 rows × 11 columns</p>\n",
       "</div>"
      ],
      "text/plain": [
       "          No  Usia Jenis_Kelamin Merokok Bekerja Rumah_Tangga  \\\n",
       "0          1   Tua          Pria   Pasif   Tidak           Ya   \n",
       "1          2   Tua          Pria   Aktif   Tidak           Ya   \n",
       "2          3  Muda          Pria   Aktif   Tidak           Ya   \n",
       "3          4   Tua          Pria   Aktif      Ya        Tidak   \n",
       "4          5  Muda        Wanita   Pasif      Ya        Tidak   \n",
       "...      ...   ...           ...     ...     ...          ...   \n",
       "29995  29996  Muda          Pria   Aktif   Tidak           Ya   \n",
       "29996  29997   Tua        Wanita   Aktif      Ya        Tidak   \n",
       "29997  29998   Tua        Wanita   Aktif      Ya        Tidak   \n",
       "29998  29999  Muda        Wanita   Pasif      Ya        Tidak   \n",
       "29999  30000   Tua        Wanita   Pasif   Tidak           Ya   \n",
       "\n",
       "      Aktivitas_Begadang Aktivitas_Olahraga Asuransi Penyakit_Bawaan  Hasil  \n",
       "0                     Ya             Sering      Ada           Tidak     Ya  \n",
       "1                     Ya             Jarang      Ada             Ada  Tidak  \n",
       "2                     Ya             Jarang      Ada           Tidak  Tidak  \n",
       "3                  Tidak             Jarang      Ada             Ada  Tidak  \n",
       "4                  Tidak             Sering    Tidak             Ada     Ya  \n",
       "...                  ...                ...      ...             ...    ...  \n",
       "29995                 Ya             Jarang      Ada           Tidak  Tidak  \n",
       "29996                 Ya             Jarang      Ada             Ada  Tidak  \n",
       "29997                 Ya             Jarang      Ada             Ada  Tidak  \n",
       "29998              Tidak             Sering    Tidak             Ada  Tidak  \n",
       "29999              Tidak             Sering    Tidak           Tidak     Ya  \n",
       "\n",
       "[30000 rows x 11 columns]"
      ]
     },
     "execution_count": 34,
     "metadata": {},
     "output_type": "execute_result"
    }
   ],
   "source": [
    "df = pd.read_csv('predic_tabel.csv')\n",
    "df"
   ]
  },
  {
   "cell_type": "markdown",
   "metadata": {},
   "source": [
    "Ekplorasi dataset"
   ]
  },
  {
   "cell_type": "code",
   "execution_count": 35,
   "metadata": {},
   "outputs": [
    {
     "name": "stdout",
     "output_type": "stream",
     "text": [
      "data shape :  (30000, 11)\n",
      "<class 'pandas.core.frame.DataFrame'>\n",
      "RangeIndex: 30000 entries, 0 to 29999\n",
      "Data columns (total 11 columns):\n",
      " #   Column              Non-Null Count  Dtype \n",
      "---  ------              --------------  ----- \n",
      " 0   No                  30000 non-null  int64 \n",
      " 1   Usia                30000 non-null  object\n",
      " 2   Jenis_Kelamin       30000 non-null  object\n",
      " 3   Merokok             30000 non-null  object\n",
      " 4   Bekerja             30000 non-null  object\n",
      " 5   Rumah_Tangga        30000 non-null  object\n",
      " 6   Aktivitas_Begadang  30000 non-null  object\n",
      " 7   Aktivitas_Olahraga  30000 non-null  object\n",
      " 8   Asuransi            30000 non-null  object\n",
      " 9   Penyakit_Bawaan     30000 non-null  object\n",
      " 10  Hasil               30000 non-null  object\n",
      "dtypes: int64(1), object(10)\n",
      "memory usage: 2.5+ MB\n"
     ]
    },
    {
     "data": {
      "text/plain": [
       "Jenis_Kelamin\n",
       "Wanita    22225\n",
       "Pria       7775\n",
       "Name: count, dtype: int64"
      ]
     },
     "execution_count": 35,
     "metadata": {},
     "output_type": "execute_result"
    }
   ],
   "source": [
    "print(\"data shape : \", df.shape)\n",
    "df.info()\n",
    "df.describe()\n",
    "df.Usia.value_counts()\n",
    "df.Jenis_Kelamin.value_counts()"
   ]
  },
  {
   "cell_type": "code",
   "execution_count": 25,
   "metadata": {},
   "outputs": [
    {
     "data": {
      "text/plain": [
       "<Axes: xlabel='Usia', ylabel='Count'>"
      ]
     },
     "execution_count": 25,
     "metadata": {},
     "output_type": "execute_result"
    },
    {
     "data": {
      "image/png": "[encoded data removed]",
      "text/plain": [
       "<Figure size 640x480 with 1 Axes>"
      ]
     },
     "metadata": {},
     "output_type": "display_data"
    }
   ],
   "source": [
    "sns.histplot(df['Usia'], kde=True)"
   ]
  },
  {
   "cell_type": "markdown",
   "metadata": {},
   "source": [
    "Preproses Dataset"
   ]
  },
  {
   "cell_type": "code",
   "execution_count": 26,
   "metadata": {},
   "outputs": [
    {
     "data": {
      "text/html": [
       "<div>\n",
       "<style scoped>\n",
       "    .dataframe tbody tr th:only-of-type {\n",
       "        vertical-align: middle;\n",
       "    }\n",
       "\n",
       "    .dataframe tbody tr th {\n",
       "        vertical-align: top;\n",
       "    }\n",
       "\n",
       "    .dataframe thead th {\n",
       "        text-align: right;\n",
       "    }\n",
       "</style>\n",
       "<table border=\"1\" class=\"dataframe\">\n",
       "  <thead>\n",
       "    <tr style=\"text-align: right;\">\n",
       "      <th></th>\n",
       "      <th>No</th>\n",
       "      <th>Usia</th>\n",
       "      <th>Jenis_Kelamin</th>\n",
       "      <th>Merokok</th>\n",
       "      <th>Bekerja</th>\n",
       "      <th>Rumah_Tangga</th>\n",
       "      <th>Aktivitas_Begadang</th>\n",
       "      <th>Aktivitas_Olahraga</th>\n",
       "      <th>Asuransi</th>\n",
       "      <th>Penyakit_Bawaan</th>\n",
       "      <th>Hasil</th>\n",
       "    </tr>\n",
       "  </thead>\n",
       "  <tbody>\n",
       "    <tr>\n",
       "      <th>Missing Values</th>\n",
       "      <td>0</td>\n",
       "      <td>0</td>\n",
       "      <td>0</td>\n",
       "      <td>0</td>\n",
       "      <td>0</td>\n",
       "      <td>0</td>\n",
       "      <td>0</td>\n",
       "      <td>0</td>\n",
       "      <td>0</td>\n",
       "      <td>0</td>\n",
       "      <td>0</td>\n",
       "    </tr>\n",
       "    <tr>\n",
       "      <th>Duplicate Rows</th>\n",
       "      <td>0</td>\n",
       "      <td>0</td>\n",
       "      <td>0</td>\n",
       "      <td>0</td>\n",
       "      <td>0</td>\n",
       "      <td>0</td>\n",
       "      <td>0</td>\n",
       "      <td>0</td>\n",
       "      <td>0</td>\n",
       "      <td>0</td>\n",
       "      <td>0</td>\n",
       "    </tr>\n",
       "  </tbody>\n",
       "</table>\n",
       "</div>"
      ],
      "text/plain": [
       "                No  Usia  Jenis_Kelamin  Merokok  Bekerja  Rumah_Tangga  \\\n",
       "Missing Values   0     0              0        0        0             0   \n",
       "Duplicate Rows   0     0              0        0        0             0   \n",
       "\n",
       "                Aktivitas_Begadang  Aktivitas_Olahraga  Asuransi  \\\n",
       "Missing Values                   0                   0         0   \n",
       "Duplicate Rows                   0                   0         0   \n",
       "\n",
       "                Penyakit_Bawaan  Hasil  \n",
       "Missing Values                0      0  \n",
       "Duplicate Rows                0      0  "
      ]
     },
     "execution_count": 26,
     "metadata": {},
     "output_type": "execute_result"
    }
   ],
   "source": [
    "#Cek data apakah ada yang missing value atau tidak\n",
    "result = pd.DataFrame({\n",
    "    \"Missing Values\": df.isnull().sum(),\n",
    "    \"Duplicate Rows\": [df.duplicated().sum()] * len(df.columns)\n",
    "}).T\n",
    "\n",
    "# Menampilkan hasil\n",
    "result"
   ]
  },
  {
   "cell_type": "markdown",
   "metadata": {},
   "source": [
    "Tahap Encode Dataset"
   ]
  },
  {
   "cell_type": "code",
   "execution_count": 36,
   "metadata": {},
   "outputs": [
    {
     "name": "stdout",
     "output_type": "stream",
     "text": [
      "   No  Usia  Jenis_Kelamin  Merokok  Bekerja  Rumah_Tangga  \\\n",
      "0   1     1              0        1        0             1   \n",
      "1   2     1              0        0        0             1   \n",
      "2   3     0              0        0        0             1   \n",
      "3   4     1              0        0        1             0   \n",
      "4   5     0              1        1        1             0   \n",
      "\n",
      "   Aktivitas_Begadang  Aktivitas_Olahraga  Asuransi  Penyakit_Bawaan  Hasil  \n",
      "0                   1                   1         0                1      1  \n",
      "1                   1                   0         0                0      0  \n",
      "2                   1                   0         0                1      0  \n",
      "3                   0                   0         0                0      0  \n",
      "4                   0                   1         1                0      1  \n"
     ]
    }
   ],
   "source": [
    "\n",
    "# Data kategorikal yang perlu di-encode\n",
    "columns_to_encode = [\n",
    "    'Usia', 'Jenis_Kelamin', 'Merokok', 'Bekerja',\n",
    "    'Rumah_Tangga', 'Aktivitas_Begadang', \n",
    "    'Aktivitas_Olahraga', 'Asuransi', 'Penyakit_Bawaan', 'Hasil'\n",
    "]\n",
    "\n",
    "# Melakukan encoding untuk setiap kolom\n",
    "label_encoder = LabelEncoder()\n",
    "for col in columns_to_encode:\n",
    "    df[col] = label_encoder.fit_transform(df[col])\n",
    "\n",
    "print(df.head())  # Untuk memastikan hasil encoding\n"
   ]
  },
  {
   "cell_type": "markdown",
   "metadata": {},
   "source": [
    "Menerapkan Standard Scaller"
   ]
  },
  {
   "cell_type": "code",
   "execution_count": 38,
   "metadata": {},
   "outputs": [
    {
     "name": "stdout",
     "output_type": "stream",
     "text": [
      "   No      Usia  Jenis_Kelamin   Merokok  Bekerja  Rumah_Tangga  \\\n",
      "0   1  1.025868      -1.690716  1.014099        0             1   \n",
      "1   2  1.025868      -1.690716 -0.986097        0             1   \n",
      "2   3 -0.974784      -1.690716 -0.986097        0             1   \n",
      "3   4  1.025868      -1.690716 -0.986097        1             0   \n",
      "4   5 -0.974784       0.591465  1.014099        1             0   \n",
      "\n",
      "   Aktivitas_Begadang  Aktivitas_Olahraga  Asuransi  Penyakit_Bawaan  Hasil  \n",
      "0            0.842376            1.224235         0         1.347925      1  \n",
      "1            0.842376           -0.816837         0        -0.741881      0  \n",
      "2            0.842376           -0.816837         0         1.347925      0  \n",
      "3           -1.187119           -0.816837         0        -0.741881      0  \n",
      "4           -1.187119            1.224235         1        -0.741881      1  \n"
     ]
    }
   ],
   "source": [
    "from sklearn.preprocessing import StandardScaler\n",
    "\n",
    "# Identifikasi kolom numerik yang akan di-scaling (kecuali 'Hasil')\n",
    "numerik_cols = df.columns.drop(['Hasil', 'No',  'Asuransi', 'Bekerja', 'Rumah_Tangga'])  # Drop kolom target dan ID\n",
    "scaler = StandardScaler()\n",
    "data_scaled = scaler.fit_transform(df[numerik_cols])\n",
    "\n",
    "# Buat DataFrame baru dengan hasil scaling\n",
    "df_scaled = df.copy()  # Salin data asli\n",
    "df_scaled[numerik_cols] = data_scaled  # Ganti kolom numerik dengan hasil scaling\n",
    "\n",
    "# Simpan scaler untuk digunakan di prediksi\n",
    "import pickle\n",
    "with open('scaler.pkl', 'wb') as f:\n",
    "    pickle.dump(scaler, f)\n",
    "\n",
    "print(df_scaled.head())\n"
   ]
  },
  {
   "cell_type": "code",
   "execution_count": 39,
   "metadata": {},
   "outputs": [
    {
     "name": "stdout",
     "output_type": "stream",
     "text": [
      "x_train: (24000, 6)\n",
      "y_train: (24000,)\n",
      "x_test: (6000, 6)\n",
      "y_test: (6000,)\n"
     ]
    }
   ],
   "source": [
    "from sklearn.model_selection import train_test_split\n",
    "\n",
    "# X: Fitur yang dibutuhkan, Y: Target (Hasil)\n",
    "X = df_scaled.drop(columns=['Hasil', 'No', 'Asuransi', 'Bekerja', 'Rumah_Tangga'])\n",
    "y = df_scaled['Hasil']  # Target\n",
    "\n",
    "# Membagi data menjadi train (80%) dan test (20%)\n",
    "x_train, x_test, y_train, y_test = train_test_split(X, y, test_size=0.2, random_state=42)\n",
    "\n",
    "print(f\"x_train: {x_train.shape}\")\n",
    "print(f\"y_train: {y_train.shape}\")\n",
    "print(f\"x_test: {x_test.shape}\")\n",
    "print(f\"y_test: {y_test.shape}\")\n"
   ]
  },
  {
   "cell_type": "markdown",
   "metadata": {},
   "source": [
    "Menentukan Nilai K menggunakan Elbow Method"
   ]
  },
  {
   "cell_type": "code",
   "execution_count": 40,
   "metadata": {},
   "outputs": [
    {
     "data": {
      "image/png": "[encoded data removed]",
      "text/plain": [
       "<Figure size 800x500 with 1 Axes>"
      ]
     },
     "metadata": {},
     "output_type": "display_data"
    }
   ],
   "source": [
    "import matplotlib.pyplot as plt\n",
    "from sklearn.cluster import KMeans\n",
    "\n",
    "\n",
    "# Menentukan range K yang akan diuji\n",
    "wcss = []\n",
    "K_range = range(1, 11)  # Uji K dari 1 hingga 10\n",
    "for k in K_range:\n",
    "    kmeans = KMeans(n_clusters=k, random_state=42)\n",
    "    kmeans.fit(df_scaled)  # Gunakan df_scaled yang berisi data numerik yang sudah diskalakan\n",
    "    wcss.append(kmeans.inertia_)  # inertia_ = WCSS\n",
    "\n",
    "# Visualisasi Metode Elbow\n",
    "plt.figure(figsize=(8, 5))\n",
    "plt.plot(K_range, wcss, marker='o', linestyle='--')\n",
    "plt.title('Metode Elbow untuk Menentukan K Optimal')\n",
    "plt.xlabel('Jumlah Cluster (K)')\n",
    "plt.ylabel('WCSS')\n",
    "plt.xticks(K_range)\n",
    "plt.grid()\n",
    "plt.show()\n"
   ]
  },
  {
   "cell_type": "markdown",
   "metadata": {},
   "source": [
    "Training Model"
   ]
  },
  {
   "cell_type": "code",
   "execution_count": 41,
   "metadata": {},
   "outputs": [
    {
     "name": "stdout",
     "output_type": "stream",
     "text": [
      "              precision    recall  f1-score   support\n",
      "\n",
      "           0       0.83      1.00      0.91      3075\n",
      "           1       1.00      0.78      0.88      2925\n",
      "\n",
      "    accuracy                           0.89      6000\n",
      "   macro avg       0.91      0.89      0.89      6000\n",
      "weighted avg       0.91      0.89      0.89      6000\n",
      "\n",
      "Akurasi KNN : 89.28%\n"
     ]
    }
   ],
   "source": [
    "knn = KNeighborsClassifier(n_neighbors=2)\n",
    "knn.fit(x_train, y_train)\n",
    "\n",
    "y_pred = knn.predict(x_test)\n",
    "KNN_acc = accuracy_score(y_pred, y_test)\n",
    "\n",
    "print(classification_report(y_test, y_pred))\n",
    "print('Akurasi KNN : {:.2f}%'.format(KNN_acc*100))"
   ]
  },
  {
   "cell_type": "markdown",
   "metadata": {},
   "source": [
    "Testing model"
   ]
  },
  {
   "cell_type": "code",
   "execution_count": 18,
   "metadata": {},
   "outputs": [
    {
     "data": {
      "text/html": [
       "<div>\n",
       "<style scoped>\n",
       "    .dataframe tbody tr th:only-of-type {\n",
       "        vertical-align: middle;\n",
       "    }\n",
       "\n",
       "    .dataframe tbody tr th {\n",
       "        vertical-align: top;\n",
       "    }\n",
       "\n",
       "    .dataframe thead th {\n",
       "        text-align: right;\n",
       "    }\n",
       "</style>\n",
       "<table border=\"1\" class=\"dataframe\">\n",
       "  <thead>\n",
       "    <tr style=\"text-align: right;\">\n",
       "      <th></th>\n",
       "      <th>Usia</th>\n",
       "      <th>Jenis_Kelamin</th>\n",
       "      <th>Merokok</th>\n",
       "      <th>Aktivitas_Begadang</th>\n",
       "      <th>Aktivitas_Olahraga</th>\n",
       "      <th>Penyakit_Bawaan</th>\n",
       "    </tr>\n",
       "  </thead>\n",
       "  <tbody>\n",
       "    <tr>\n",
       "      <th>0</th>\n",
       "      <td>Tua</td>\n",
       "      <td>Pria</td>\n",
       "      <td>Pasif</td>\n",
       "      <td>Tidak</td>\n",
       "      <td>Tidak</td>\n",
       "      <td>Tidak</td>\n",
       "    </tr>\n",
       "  </tbody>\n",
       "</table>\n",
       "</div>"
      ],
      "text/plain": [
       "  Usia Jenis_Kelamin Merokok Aktivitas_Begadang Aktivitas_Olahraga  \\\n",
       "0  Tua          Pria   Pasif              Tidak              Tidak   \n",
       "\n",
       "  Penyakit_Bawaan  \n",
       "0           Tidak  "
      ]
     },
     "execution_count": 18,
     "metadata": {},
     "output_type": "execute_result"
    }
   ],
   "source": [
    "# Data testing dengan kolom yang sesuai\n",
    "testing = {\n",
    "    'Usia': ['Tua'],\n",
    "    'Jenis_Kelamin': ['Pria'],  \n",
    "    'Merokok': ['Pasif'],\n",
    "    'Aktivitas_Begadang': ['Tidak'],\n",
    "    'Aktivitas_Olahraga': ['Tidak'],\n",
    "    'Penyakit_Bawaan': ['Tidak']\n",
    "}\n",
    "\n",
    "# Konversi data menjadi DataFrame\n",
    "testing = pd.DataFrame(testing)\n",
    "testing"
   ]
  },
  {
   "cell_type": "code",
   "execution_count": 42,
   "metadata": {},
   "outputs": [],
   "source": [
    "import pickle\n",
    "\n",
    "# Simpan model\n",
    "with open('model/knn_model.pkl', 'wb') as model_file:\n",
    "    pickle.dump(knn, model_file)\n",
    "\n",
    "# Simpan scaler\n",
    "with open('model/scaler.pkl', 'wb') as scaler_file:\n",
    "    pickle.dump(scaler, scaler_file)\n"
   ]
  }
 ],
 "metadata": {
  "kernelspec": {
   "display_name": "Python 3",
   "language": "python",
   "name": "python3"
  },
  "language_info": {
   "codemirror_mode": {
    "name": "ipython",
    "version": 3
   },
   "file_extension": ".py",
   "mimetype": "text/x-python",
   "name": "python",
   "nbconvert_exporter": "python",
   "pygments_lexer": "ipython3",
   "version": "3.11.5"
  }
 },
 "nbformat": 4,
 "nbformat_minor": 2
}
